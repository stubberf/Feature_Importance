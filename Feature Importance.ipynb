{
 "cells": [
  {
   "cell_type": "markdown",
   "metadata": {},
   "source": [
    "### Permutation Feature Importance\n",
    "2019-10-19\n",
    "\n",
    "This workbook will explore the concept of randomly shuffling features in a dataset to determine which ones are the most significant for the models performance. This technique is not new, and quoting directly from Christoph Molnar book on Interpretable Machine Learning \"The permutation feature importance measurement was introduced by Breiman for random forests. Based on this idea, Fisher, Rudin, and Dominici proposed a model-agnostic version of the feature importance and called it model reliance.\" and was introduced by Leo Breiman (2001). Additional information about the technique can be found in the links below.\n",
    "\n",
    "Supporting Websites:\n",
    "- Fisher, Aaron, Cynthia Rudin, and Francesca Dominici. “Model Class Reliance: Variable importance measures for any machine learning model class, from the ‘Rashomon’ perspective.” http://arxiv.org/abs/1801.01489 (2018).\n",
    "- https://christophm.github.io/interpretable-ml-book/feature-importance.html\n",
    "- https://blogs.technet.microsoft.com/machinelearning/2015/04/14/permutation-feature-importance/\n",
    "- https://scikit-learn.org/dev/modules/permutation_importance.html"
   ]
  },
  {
   "cell_type": "code",
   "execution_count": 1,
   "metadata": {},
   "outputs": [],
   "source": [
    "%matplotlib inline\n",
    "\n",
    "#Load Needed Packages\n",
    "import numpy as np\n",
    "import pandas as pd\n",
    "import matplotlib.pyplot as plt\n",
    "\n",
    "from sklearn.datasets import load_boston\n",
    "from sklearn.model_selection import train_test_split\n",
    "from sklearn.pipeline import Pipeline\n",
    "from sklearn.preprocessing import StandardScaler\n",
    "from sklearn.ensemble import RandomForestRegressor\n",
    "from sklearn.metrics import mean_squared_error\n",
    "\n",
    "plt.style.use('ggplot')"
   ]
  },
  {
   "cell_type": "markdown",
   "metadata": {},
   "source": [
    "### Fit A Model\n",
    "\n",
    "To start, the [Boston housing dataset](https://scikit-learn.org/stable/datasets/index.html#boston-dataset) is used and a Random Forest model is fitted to the training set. The Boston housing dataset contains 13 features used to predict the median value of owner occuppied homes in $1000. The Pipeline class is used to scale the features first prior to fitting the model. Once the model is fitted the R^2 and Mean Squared Error of the test set is determined. Finally, print the name of the features in the dataset. "
   ]
  },
  {
   "cell_type": "code",
   "execution_count": 2,
   "metadata": {},
   "outputs": [
    {
     "name": "stdout",
     "output_type": "stream",
     "text": [
      "Shape of train set: \t(354, 13)\n",
      "Shape of test set: \t(152, 13)\n",
      "Test Score R2: \t\t0.8630%\n",
      "Test Score MSE: \t11.3134\n",
      "\n",
      "Feature names in the dataset:\n",
      " Index(['CRIM', 'ZN', 'INDUS', 'CHAS', 'NOX', 'RM', 'AGE', 'DIS', 'RAD', 'TAX',\n",
      "       'PTRATIO', 'B', 'LSTAT'],\n",
      "      dtype='object')\n"
     ]
    }
   ],
   "source": [
    "#initialize the needed variables\n",
    "d = load_boston()\n",
    "X = pd.DataFrame(d.data, columns=d.feature_names)\n",
    "y = pd.Series(d.target, name='y')\n",
    "seed = 13\n",
    "\n",
    "X_train, X_test, y_train, y_test = train_test_split(X, y,\n",
    "                                                    test_size=0.3,\n",
    "                                                    random_state=seed\n",
    "                                                   )\n",
    "print('Shape of train set: \\t{}'.format(X_train.shape))\n",
    "print('Shape of test set: \\t{}'.format(X_test.shape))\n",
    "\n",
    "m = Pipeline(steps=[('center',StandardScaler()),\n",
    "                    ('rf',RandomForestRegressor(\n",
    "                        n_estimators=100, \n",
    "                        random_state=seed))\n",
    "                   ]\n",
    "            )\n",
    "m.fit(X_train, y_train)\n",
    "print('Test Score R2: \\t\\t{:.4f}%'.format(m.score(X_test, y_test)))\n",
    "print('Test Score MSE: \\t{:.4f}'.format(mean_squared_error(y_test, m.predict(X_test)) ))\n",
    "\n",
    "print('\\nFeature names in the dataset:\\n {}'.format(X_test.columns))"
   ]
  },
  {
   "cell_type": "markdown",
   "metadata": {},
   "source": [
    "The coefficient of determination (R2) is > 85% and mean squared error value of about $11K on the test set. With these values we will assume the fitted model generalizes well."
   ]
  },
  {
   "cell_type": "markdown",
   "metadata": {},
   "source": [
    "### Permutation Feature Function\n",
    "\n",
    "Here the permutation feature importance function is defined. The function will return a Pandas DataFrame where each row will list the name of the feature shuffled and the difference between the values of the evaluation metrics of the baseline dataset and the dataset with the shuffled feature. "
   ]
  },
  {
   "cell_type": "code",
   "execution_count": 3,
   "metadata": {},
   "outputs": [],
   "source": [
    "def find_feature_importance(model, x, y, eval_metric, shuffle_num=10):\n",
    "    '''\n",
    "    This function returns a DataFrame with a list of the input x feature names \n",
    "    and their estimated importance to the model\n",
    "    '''\n",
    "    \n",
    "    orig = x.copy()\n",
    "    base = eval_metric(y, model.predict(x))\n",
    "    output = []\n",
    "    for f in x.columns:\n",
    "        x_shuffled = orig.copy()\n",
    "        for i in range(shuffle_num):\n",
    "            col = orig.loc[:,f].sample(frac=1.0, random_state=(seed+i)).tolist()\n",
    "            x_shuffled.loc[:,f] = pd.Series(col,index=x_shuffled.index)\n",
    "            #the abs() value of diff is used so if eval_metric is a lost \n",
    "            #function or scorer function the diff is always a positive value\n",
    "            d = np.abs(eval_metric(y, model.predict(x_shuffled)) - base)\n",
    "            output.append( (f, d) )\n",
    "    return (pd.DataFrame(output, columns=['feature','diff']))\n"
   ]
  },
  {
   "cell_type": "markdown",
   "metadata": {},
   "source": [
    "The function is executed using the model fitted earlier with the test dataset, the mean squared error is used as the evaluation metric and each feature is shuffled 50 times. Finally, a bit of the output function is shown."
   ]
  },
  {
   "cell_type": "code",
   "execution_count": 4,
   "metadata": {},
   "outputs": [
    {
     "data": {
      "text/html": [
       "<div>\n",
       "<style scoped>\n",
       "    .dataframe tbody tr th:only-of-type {\n",
       "        vertical-align: middle;\n",
       "    }\n",
       "\n",
       "    .dataframe tbody tr th {\n",
       "        vertical-align: top;\n",
       "    }\n",
       "\n",
       "    .dataframe thead th {\n",
       "        text-align: right;\n",
       "    }\n",
       "</style>\n",
       "<table border=\"1\" class=\"dataframe\">\n",
       "  <thead>\n",
       "    <tr style=\"text-align: right;\">\n",
       "      <th></th>\n",
       "      <th>feature</th>\n",
       "      <th>diff</th>\n",
       "    </tr>\n",
       "  </thead>\n",
       "  <tbody>\n",
       "    <tr>\n",
       "      <th>0</th>\n",
       "      <td>CRIM</td>\n",
       "      <td>2.259803</td>\n",
       "    </tr>\n",
       "    <tr>\n",
       "      <th>1</th>\n",
       "      <td>CRIM</td>\n",
       "      <td>2.356428</td>\n",
       "    </tr>\n",
       "    <tr>\n",
       "      <th>2</th>\n",
       "      <td>CRIM</td>\n",
       "      <td>2.843188</td>\n",
       "    </tr>\n",
       "    <tr>\n",
       "      <th>3</th>\n",
       "      <td>CRIM</td>\n",
       "      <td>2.223875</td>\n",
       "    </tr>\n",
       "    <tr>\n",
       "      <th>4</th>\n",
       "      <td>CRIM</td>\n",
       "      <td>2.225271</td>\n",
       "    </tr>\n",
       "  </tbody>\n",
       "</table>\n",
       "</div>"
      ],
      "text/plain": [
       "  feature      diff\n",
       "0    CRIM  2.259803\n",
       "1    CRIM  2.356428\n",
       "2    CRIM  2.843188\n",
       "3    CRIM  2.223875\n",
       "4    CRIM  2.225271"
      ]
     },
     "execution_count": 4,
     "metadata": {},
     "output_type": "execute_result"
    }
   ],
   "source": [
    "fi = find_feature_importance(m, X_test, y_test, mean_squared_error, 50)\n",
    "fi.head()"
   ]
  },
  {
   "cell_type": "markdown",
   "metadata": {},
   "source": [
    "Using the DataFrame a boxplot is produced to show which features have the greatest difference / importance."
   ]
  },
  {
   "cell_type": "code",
   "execution_count": 5,
   "metadata": {},
   "outputs": [
    {
     "data": {
      "text/plain": [
       "Text(0.5, 1.0, 'Permutation Feature Importance')"
      ]
     },
     "execution_count": 5,
     "metadata": {},
     "output_type": "execute_result"
    },
    {
     "data": {
      "image/png": "[encoded data removed]",
      "text/plain": [
       "<Figure size 576x360 with 1 Axes>"
      ]
     },
     "metadata": {
      "needs_background": "light"
     },
     "output_type": "display_data"
    }
   ],
   "source": [
    "ax = fi.boxplot(by='feature', rot=90, figsize=(8,5))\n",
    "ax.set_ylabel('Difference')\n",
    "ax.set_title('Permutation Feature Importance')"
   ]
  },
  {
   "cell_type": "markdown",
   "metadata": {},
   "source": [
    "Additionally, the dataset is grouped by feature and the median computed, then it is sorted in decending order."
   ]
  },
  {
   "cell_type": "code",
   "execution_count": 6,
   "metadata": {},
   "outputs": [],
   "source": [
    "ax = fi.groupby('feature').median().sort_values('diff', ascending=False)"
   ]
  },
  {
   "cell_type": "markdown",
   "metadata": {},
   "source": [
    "The boxplot and sorted DataFrame would suggest that the three most important features in the dataset are LSAT, RM, and DIS with most of the other features having similar values. Looking at the defintions of the features:\n",
    "- LSTAT % lower status of the population\n",
    "- RM average number of rooms per dwelling\n",
    "- DIS weighted distances to five Boston employment centres\n",
    "\n",
    "These features seem as if they would be very important in determining home prices. \n",
    "\n",
    "\n",
    "However, checking the correlation matrix there are a number of features that are highly correlated (>70%) with each other. Therefore, this permuation feature importance method maybe down playing the importance of the highly corrlated features. "
   ]
  },
  {
   "cell_type": "code",
   "execution_count": 7,
   "metadata": {},
   "outputs": [
    {
     "data": {
      "text/html": [
       "<div>\n",
       "<style scoped>\n",
       "    .dataframe tbody tr th:only-of-type {\n",
       "        vertical-align: middle;\n",
       "    }\n",
       "\n",
       "    .dataframe tbody tr th {\n",
       "        vertical-align: top;\n",
       "    }\n",
       "\n",
       "    .dataframe thead th {\n",
       "        text-align: right;\n",
       "    }\n",
       "</style>\n",
       "<table border=\"1\" class=\"dataframe\">\n",
       "  <thead>\n",
       "    <tr style=\"text-align: right;\">\n",
       "      <th></th>\n",
       "      <th>CRIM</th>\n",
       "      <th>ZN</th>\n",
       "      <th>INDUS</th>\n",
       "      <th>CHAS</th>\n",
       "      <th>NOX</th>\n",
       "      <th>RM</th>\n",
       "      <th>AGE</th>\n",
       "      <th>DIS</th>\n",
       "      <th>RAD</th>\n",
       "      <th>TAX</th>\n",
       "      <th>PTRATIO</th>\n",
       "      <th>B</th>\n",
       "      <th>LSTAT</th>\n",
       "    </tr>\n",
       "  </thead>\n",
       "  <tbody>\n",
       "    <tr>\n",
       "      <th>CRIM</th>\n",
       "      <td>1.000000</td>\n",
       "      <td>-0.202162</td>\n",
       "      <td>0.412700</td>\n",
       "      <td>-0.051085</td>\n",
       "      <td>0.439212</td>\n",
       "      <td>-0.184490</td>\n",
       "      <td>0.352927</td>\n",
       "      <td>-0.394076</td>\n",
       "      <td>0.634731</td>\n",
       "      <td>0.589909</td>\n",
       "      <td>0.297771</td>\n",
       "      <td>-0.358492</td>\n",
       "      <td>0.406943</td>\n",
       "    </tr>\n",
       "    <tr>\n",
       "      <th>ZN</th>\n",
       "      <td>-0.202162</td>\n",
       "      <td>1.000000</td>\n",
       "      <td>-0.514125</td>\n",
       "      <td>-0.011588</td>\n",
       "      <td>-0.513894</td>\n",
       "      <td>0.344775</td>\n",
       "      <td>-0.560640</td>\n",
       "      <td>0.630939</td>\n",
       "      <td>-0.302015</td>\n",
       "      <td>-0.311293</td>\n",
       "      <td>-0.392691</td>\n",
       "      <td>0.161456</td>\n",
       "      <td>-0.416154</td>\n",
       "    </tr>\n",
       "    <tr>\n",
       "      <th>INDUS</th>\n",
       "      <td>0.412700</td>\n",
       "      <td>-0.514125</td>\n",
       "      <td>1.000000</td>\n",
       "      <td>0.000215</td>\n",
       "      <td>0.766860</td>\n",
       "      <td>-0.426592</td>\n",
       "      <td>0.639049</td>\n",
       "      <td>-0.702138</td>\n",
       "      <td>0.586801</td>\n",
       "      <td>0.714491</td>\n",
       "      <td>0.407060</td>\n",
       "      <td>-0.324925</td>\n",
       "      <td>0.618422</td>\n",
       "    </tr>\n",
       "    <tr>\n",
       "      <th>CHAS</th>\n",
       "      <td>-0.051085</td>\n",
       "      <td>-0.011588</td>\n",
       "      <td>0.000215</td>\n",
       "      <td>1.000000</td>\n",
       "      <td>-0.008057</td>\n",
       "      <td>0.108690</td>\n",
       "      <td>0.031805</td>\n",
       "      <td>-0.051849</td>\n",
       "      <td>-0.005347</td>\n",
       "      <td>-0.051513</td>\n",
       "      <td>-0.080848</td>\n",
       "      <td>0.066449</td>\n",
       "      <td>-0.077525</td>\n",
       "    </tr>\n",
       "    <tr>\n",
       "      <th>NOX</th>\n",
       "      <td>0.439212</td>\n",
       "      <td>-0.513894</td>\n",
       "      <td>0.766860</td>\n",
       "      <td>-0.008057</td>\n",
       "      <td>1.000000</td>\n",
       "      <td>-0.330213</td>\n",
       "      <td>0.736687</td>\n",
       "      <td>-0.776428</td>\n",
       "      <td>0.623659</td>\n",
       "      <td>0.684392</td>\n",
       "      <td>0.240511</td>\n",
       "      <td>-0.367660</td>\n",
       "      <td>0.621945</td>\n",
       "    </tr>\n",
       "    <tr>\n",
       "      <th>RM</th>\n",
       "      <td>-0.184490</td>\n",
       "      <td>0.344775</td>\n",
       "      <td>-0.426592</td>\n",
       "      <td>0.108690</td>\n",
       "      <td>-0.330213</td>\n",
       "      <td>1.000000</td>\n",
       "      <td>-0.291318</td>\n",
       "      <td>0.220152</td>\n",
       "      <td>-0.220338</td>\n",
       "      <td>-0.320216</td>\n",
       "      <td>-0.361810</td>\n",
       "      <td>0.146994</td>\n",
       "      <td>-0.610355</td>\n",
       "    </tr>\n",
       "    <tr>\n",
       "      <th>AGE</th>\n",
       "      <td>0.352927</td>\n",
       "      <td>-0.560640</td>\n",
       "      <td>0.639049</td>\n",
       "      <td>0.031805</td>\n",
       "      <td>0.736687</td>\n",
       "      <td>-0.291318</td>\n",
       "      <td>1.000000</td>\n",
       "      <td>-0.751857</td>\n",
       "      <td>0.449477</td>\n",
       "      <td>0.505104</td>\n",
       "      <td>0.309452</td>\n",
       "      <td>-0.262097</td>\n",
       "      <td>0.637279</td>\n",
       "    </tr>\n",
       "    <tr>\n",
       "      <th>DIS</th>\n",
       "      <td>-0.394076</td>\n",
       "      <td>0.630939</td>\n",
       "      <td>-0.702138</td>\n",
       "      <td>-0.051849</td>\n",
       "      <td>-0.776428</td>\n",
       "      <td>0.220152</td>\n",
       "      <td>-0.751857</td>\n",
       "      <td>1.000000</td>\n",
       "      <td>-0.493252</td>\n",
       "      <td>-0.537066</td>\n",
       "      <td>-0.269662</td>\n",
       "      <td>0.276750</td>\n",
       "      <td>-0.494977</td>\n",
       "    </tr>\n",
       "    <tr>\n",
       "      <th>RAD</th>\n",
       "      <td>0.634731</td>\n",
       "      <td>-0.302015</td>\n",
       "      <td>0.586801</td>\n",
       "      <td>-0.005347</td>\n",
       "      <td>0.623659</td>\n",
       "      <td>-0.220338</td>\n",
       "      <td>0.449477</td>\n",
       "      <td>-0.493252</td>\n",
       "      <td>1.000000</td>\n",
       "      <td>0.907015</td>\n",
       "      <td>0.463062</td>\n",
       "      <td>-0.405072</td>\n",
       "      <td>0.455474</td>\n",
       "    </tr>\n",
       "    <tr>\n",
       "      <th>TAX</th>\n",
       "      <td>0.589909</td>\n",
       "      <td>-0.311293</td>\n",
       "      <td>0.714491</td>\n",
       "      <td>-0.051513</td>\n",
       "      <td>0.684392</td>\n",
       "      <td>-0.320216</td>\n",
       "      <td>0.505104</td>\n",
       "      <td>-0.537066</td>\n",
       "      <td>0.907015</td>\n",
       "      <td>1.000000</td>\n",
       "      <td>0.465845</td>\n",
       "      <td>-0.405819</td>\n",
       "      <td>0.528328</td>\n",
       "    </tr>\n",
       "    <tr>\n",
       "      <th>PTRATIO</th>\n",
       "      <td>0.297771</td>\n",
       "      <td>-0.392691</td>\n",
       "      <td>0.407060</td>\n",
       "      <td>-0.080848</td>\n",
       "      <td>0.240511</td>\n",
       "      <td>-0.361810</td>\n",
       "      <td>0.309452</td>\n",
       "      <td>-0.269662</td>\n",
       "      <td>0.463062</td>\n",
       "      <td>0.465845</td>\n",
       "      <td>1.000000</td>\n",
       "      <td>-0.158748</td>\n",
       "      <td>0.348164</td>\n",
       "    </tr>\n",
       "    <tr>\n",
       "      <th>B</th>\n",
       "      <td>-0.358492</td>\n",
       "      <td>0.161456</td>\n",
       "      <td>-0.324925</td>\n",
       "      <td>0.066449</td>\n",
       "      <td>-0.367660</td>\n",
       "      <td>0.146994</td>\n",
       "      <td>-0.262097</td>\n",
       "      <td>0.276750</td>\n",
       "      <td>-0.405072</td>\n",
       "      <td>-0.405819</td>\n",
       "      <td>-0.158748</td>\n",
       "      <td>1.000000</td>\n",
       "      <td>-0.345486</td>\n",
       "    </tr>\n",
       "    <tr>\n",
       "      <th>LSTAT</th>\n",
       "      <td>0.406943</td>\n",
       "      <td>-0.416154</td>\n",
       "      <td>0.618422</td>\n",
       "      <td>-0.077525</td>\n",
       "      <td>0.621945</td>\n",
       "      <td>-0.610355</td>\n",
       "      <td>0.637279</td>\n",
       "      <td>-0.494977</td>\n",
       "      <td>0.455474</td>\n",
       "      <td>0.528328</td>\n",
       "      <td>0.348164</td>\n",
       "      <td>-0.345486</td>\n",
       "      <td>1.000000</td>\n",
       "    </tr>\n",
       "  </tbody>\n",
       "</table>\n",
       "</div>"
      ],
      "text/plain": [
       "             CRIM        ZN     INDUS      CHAS       NOX        RM       AGE  \\\n",
       "CRIM     1.000000 -0.202162  0.412700 -0.051085  0.439212 -0.184490  0.352927   \n",
       "ZN      -0.202162  1.000000 -0.514125 -0.011588 -0.513894  0.344775 -0.560640   \n",
       "INDUS    0.412700 -0.514125  1.000000  0.000215  0.766860 -0.426592  0.639049   \n",
       "CHAS    -0.051085 -0.011588  0.000215  1.000000 -0.008057  0.108690  0.031805   \n",
       "NOX      0.439212 -0.513894  0.766860 -0.008057  1.000000 -0.330213  0.736687   \n",
       "RM      -0.184490  0.344775 -0.426592  0.108690 -0.330213  1.000000 -0.291318   \n",
       "AGE      0.352927 -0.560640  0.639049  0.031805  0.736687 -0.291318  1.000000   \n",
       "DIS     -0.394076  0.630939 -0.702138 -0.051849 -0.776428  0.220152 -0.751857   \n",
       "RAD      0.634731 -0.302015  0.586801 -0.005347  0.623659 -0.220338  0.449477   \n",
       "TAX      0.589909 -0.311293  0.714491 -0.051513  0.684392 -0.320216  0.505104   \n",
       "PTRATIO  0.297771 -0.392691  0.407060 -0.080848  0.240511 -0.361810  0.309452   \n",
       "B       -0.358492  0.161456 -0.324925  0.066449 -0.367660  0.146994 -0.262097   \n",
       "LSTAT    0.406943 -0.416154  0.618422 -0.077525  0.621945 -0.610355  0.637279   \n",
       "\n",
       "              DIS       RAD       TAX   PTRATIO         B     LSTAT  \n",
       "CRIM    -0.394076  0.634731  0.589909  0.297771 -0.358492  0.406943  \n",
       "ZN       0.630939 -0.302015 -0.311293 -0.392691  0.161456 -0.416154  \n",
       "INDUS   -0.702138  0.586801  0.714491  0.407060 -0.324925  0.618422  \n",
       "CHAS    -0.051849 -0.005347 -0.051513 -0.080848  0.066449 -0.077525  \n",
       "NOX     -0.776428  0.623659  0.684392  0.240511 -0.367660  0.621945  \n",
       "RM       0.220152 -0.220338 -0.320216 -0.361810  0.146994 -0.610355  \n",
       "AGE     -0.751857  0.449477  0.505104  0.309452 -0.262097  0.637279  \n",
       "DIS      1.000000 -0.493252 -0.537066 -0.269662  0.276750 -0.494977  \n",
       "RAD     -0.493252  1.000000  0.907015  0.463062 -0.405072  0.455474  \n",
       "TAX     -0.537066  0.907015  1.000000  0.465845 -0.405819  0.528328  \n",
       "PTRATIO -0.269662  0.463062  0.465845  1.000000 -0.158748  0.348164  \n",
       "B        0.276750 -0.405072 -0.405819 -0.158748  1.000000 -0.345486  \n",
       "LSTAT   -0.494977  0.455474  0.528328  0.348164 -0.345486  1.000000  "
      ]
     },
     "execution_count": 7,
     "metadata": {},
     "output_type": "execute_result"
    }
   ],
   "source": [
    "X_train.corr()"
   ]
  },
  {
   "cell_type": "markdown",
   "metadata": {},
   "source": [
    "### Using Another Model\n",
    "\n",
    "In this section Support Vector model is fitted to the same training data and produced similar test results. The importance function is used again and compared to the firts model. "
   ]
  },
  {
   "cell_type": "code",
   "execution_count": 8,
   "metadata": {},
   "outputs": [
    {
     "name": "stdout",
     "output_type": "stream",
     "text": [
      "Test Score: \t0.8566%\n",
      "Test Score MSE: 11.8417\n"
     ]
    }
   ],
   "source": [
    "from sklearn.svm import SVR\n",
    "\n",
    "m2 = Pipeline(steps=[('center',StandardScaler()),\n",
    "                    ('rf',SVR( C=25))\n",
    "                   ]\n",
    "            )\n",
    "m2.fit(X_train, y_train)\n",
    "print('Test Score: \\t{:.4f}%'.format(m2.score(X_test, y_test)))\n",
    "print('Test Score MSE: {:.4f}'.format(mean_squared_error(y_test, m2.predict(X_test)) ))"
   ]
  },
  {
   "cell_type": "code",
   "execution_count": 9,
   "metadata": {},
   "outputs": [
    {
     "data": {
      "image/png": "[encoded data removed]",
      "text/plain": [
       "<Figure size 576x360 with 1 Axes>"
      ]
     },
     "metadata": {
      "needs_background": "light"
     },
     "output_type": "display_data"
    },
    {
     "data": {
      "text/html": [
       "<div>\n",
       "<style scoped>\n",
       "    .dataframe tbody tr th:only-of-type {\n",
       "        vertical-align: middle;\n",
       "    }\n",
       "\n",
       "    .dataframe tbody tr th {\n",
       "        vertical-align: top;\n",
       "    }\n",
       "\n",
       "    .dataframe thead th {\n",
       "        text-align: right;\n",
       "    }\n",
       "</style>\n",
       "<table border=\"1\" class=\"dataframe\">\n",
       "  <thead>\n",
       "    <tr style=\"text-align: right;\">\n",
       "      <th></th>\n",
       "      <th>diff</th>\n",
       "    </tr>\n",
       "    <tr>\n",
       "      <th>feature</th>\n",
       "      <th></th>\n",
       "    </tr>\n",
       "  </thead>\n",
       "  <tbody>\n",
       "    <tr>\n",
       "      <th>RM</th>\n",
       "      <td>43.913996</td>\n",
       "    </tr>\n",
       "    <tr>\n",
       "      <th>LSTAT</th>\n",
       "      <td>23.628210</td>\n",
       "    </tr>\n",
       "    <tr>\n",
       "      <th>TAX</th>\n",
       "      <td>9.664739</td>\n",
       "    </tr>\n",
       "    <tr>\n",
       "      <th>PTRATIO</th>\n",
       "      <td>9.072262</td>\n",
       "    </tr>\n",
       "    <tr>\n",
       "      <th>AGE</th>\n",
       "      <td>8.297849</td>\n",
       "    </tr>\n",
       "    <tr>\n",
       "      <th>DIS</th>\n",
       "      <td>7.986157</td>\n",
       "    </tr>\n",
       "    <tr>\n",
       "      <th>NOX</th>\n",
       "      <td>6.541185</td>\n",
       "    </tr>\n",
       "    <tr>\n",
       "      <th>RAD</th>\n",
       "      <td>5.411367</td>\n",
       "    </tr>\n",
       "    <tr>\n",
       "      <th>INDUS</th>\n",
       "      <td>4.032275</td>\n",
       "    </tr>\n",
       "    <tr>\n",
       "      <th>CHAS</th>\n",
       "      <td>4.020249</td>\n",
       "    </tr>\n",
       "    <tr>\n",
       "      <th>CRIM</th>\n",
       "      <td>2.672102</td>\n",
       "    </tr>\n",
       "    <tr>\n",
       "      <th>ZN</th>\n",
       "      <td>1.938811</td>\n",
       "    </tr>\n",
       "    <tr>\n",
       "      <th>B</th>\n",
       "      <td>1.200322</td>\n",
       "    </tr>\n",
       "  </tbody>\n",
       "</table>\n",
       "</div>"
      ],
      "text/plain": [
       "              diff\n",
       "feature           \n",
       "RM       43.913996\n",
       "LSTAT    23.628210\n",
       "TAX       9.664739\n",
       "PTRATIO   9.072262\n",
       "AGE       8.297849\n",
       "DIS       7.986157\n",
       "NOX       6.541185\n",
       "RAD       5.411367\n",
       "INDUS     4.032275\n",
       "CHAS      4.020249\n",
       "CRIM      2.672102\n",
       "ZN        1.938811\n",
       "B         1.200322"
      ]
     },
     "execution_count": 9,
     "metadata": {},
     "output_type": "execute_result"
    }
   ],
   "source": [
    "fi2 = find_feature_importance(m2, X_test, y_test, mean_squared_error, 50)\n",
    "ax = fi2.boxplot(by='feature', rot=90, figsize=(8,5))\n",
    "ax.set_ylabel('Difference')\n",
    "ax.set_title('Permutation Feature Importance')\n",
    "plt.show()\n",
    "fi2.groupby('feature').median().sort_values('diff', ascending=False)"
   ]
  },
  {
   "cell_type": "markdown",
   "metadata": {},
   "source": [
    "The features RM and LSTAT switch for most and second most important features. The features TAX (import seaborn as sns) and PTRATIO (import seaborn as sns) become the 3rd and 4th important features."
   ]
  },
  {
   "cell_type": "markdown",
   "metadata": {},
   "source": [
    "### Conclusion\n",
    "\n",
    "The permutation feature importance method is an interesting way of determining the imporatance of a feature in a model regardless of what type of model it is. This method however is model dependent. The features of a dataset important to one model can be very different for another model. Although this can give some interesting insight on the workings of a model."
   ]
  },
  {
   "cell_type": "code",
   "execution_count": null,
   "metadata": {},
   "outputs": [],
   "source": []
  }
 ],
 "metadata": {
  "kernelspec": {
   "display_name": "Python 3",
   "language": "python",
   "name": "python3"
  },
  "language_info": {
   "codemirror_mode": {
    "name": "ipython",
    "version": 3
   },
   "file_extension": ".py",
   "mimetype": "text/x-python",
   "name": "python",
   "nbconvert_exporter": "python",
   "pygments_lexer": "ipython3",
   "version": "3.6.8"
  }
 },
 "nbformat": 4,
 "nbformat_minor": 2
}
